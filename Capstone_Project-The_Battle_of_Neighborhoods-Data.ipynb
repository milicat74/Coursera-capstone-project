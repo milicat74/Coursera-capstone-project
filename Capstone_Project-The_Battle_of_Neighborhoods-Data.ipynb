{
    "cells": [
        {
            "metadata": {
                "collapsed": true
            },
            "cell_type": "markdown",
            "source": "# The Battle of Neighborhoods, Capstone Project"
        },
        {
            "metadata": {},
            "cell_type": "markdown",
            "source": "## About Data in the project"
        },
        {
            "metadata": {},
            "cell_type": "markdown",
            "source": "Data that will be used in this project are from relevant available sites. <br> Data will be scrapped, cleaned and wrangled, and data should consist of postal codes, names of the neighborhoods, latitude, longitude.\nIn this way, it will be possible to find desired geographical location for futher analysis, so data will be prepared for exploring and modeling. <br> BeautifulSoup library will be used to scrap data from sites. <br> Geopy library will be used to get geospatial data."
        },
        {
            "metadata": {},
            "cell_type": "markdown",
            "source": "For neighborhood data in Toronto, will be used this link: https://en.wikipedia.org/wiki/List_of_postal_codes_of_Canada:_M\n<br> For neighborhood data in New York, will be used this link: https://en.wikipedia.org/wiki/List_of_New_York_area_codes"
        },
        {
            "metadata": {},
            "cell_type": "markdown",
            "source": "Foursquare API data will be used to get desired data about different venues in different neighbours in Toronto and New York. It will be used location information to gain data about venues and events within desired area. <br> Data will include venue names, photos, locations etc but they will be filteres to get only for desired neighborhoods. <br>\nThe data obtained for venue should consisted of neighborhood name, neighborhood Latitude, neighborhood Longitude, the name of a restaurant or caffe, venue latitude, venue longitude."
        },
        {
            "metadata": {},
            "cell_type": "markdown",
            "source": "Some examples of restaurants or caffes can include: a kind of food software developers eat the most, a food that can be delivered, a kind of drinks software developers drink the most, drinks that can be delivered."
        },
        {
            "metadata": {},
            "cell_type": "markdown",
            "source": ""
        }
    ],
    "metadata": {
        "kernelspec": {
            "name": "python3",
            "display_name": "Python 3.7",
            "language": "python"
        },
        "language_info": {
            "name": "python",
            "version": "3.7.10",
            "mimetype": "text/x-python",
            "codemirror_mode": {
                "name": "ipython",
                "version": 3
            },
            "pygments_lexer": "ipython3",
            "nbconvert_exporter": "python",
            "file_extension": ".py"
        }
    },
    "nbformat": 4,
    "nbformat_minor": 1
}