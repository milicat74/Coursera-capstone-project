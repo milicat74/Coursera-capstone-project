{
    "cells": [
        {
            "metadata": {
                "collapsed": true
            },
            "cell_type": "markdown",
            "source": "# The Battle of Neighborhoods, Capstone Project"
        },
        {
            "metadata": {},
            "cell_type": "markdown",
            "source": "## Introduction/Business Problem"
        },
        {
            "metadata": {},
            "cell_type": "markdown",
            "source": "### Background"
        },
        {
            "metadata": {},
            "cell_type": "markdown",
            "source": "In this pandemic time, there are need for develop and automate different kind of applications that will help people to keep good level of living while think about health and saftey. To have more good IT solutions, it is a good idea to open IT comunity office, that will provide a good open, wide space for software developers to have place where they can work in safe and productive way. Since that kind of office will not have a kitchen, it would be necessary to have great resaturants and caffe near the office, so the developers could have a break with good food or drink.\nBeside good restaurants, it is important that neighborhood has some green area, where people can go outside and relax.\nIt comunity office should have space for up to 100 developers, so it is good to find location in neighborhood in big city. This can be of interest to people in Toronto, because Toronto is the largest city in Canada. Also it can be of interest to people in New York, because New York is the largest city in USA."
        },
        {
            "metadata": {},
            "cell_type": "markdown",
            "source": "### Project Idea"
        },
        {
            "metadata": {},
            "cell_type": "markdown",
            "source": "The project idea is to find good neighborhood where IT office can be opened and have good restaurants and caffes, parks and other nice green area near it. \nThis project aims to create an analysis of features of neighborhoods in Toronto and New York, and provide an insigt is it better, form perspective of neighborhoods with good food and drink and lot of green area, to have an IT office in Toronto or in New York. Using data about neighborhoods and popular restaurants, ceffes, green areas, will provide enough information to choose where will be a good place to open IT business."
        },
        {
            "metadata": {},
            "cell_type": "markdown",
            "source": "Target audience are busines people and software developers. Also, it could be of interests to the people that work from home in these days.\nProblem statements: List of the restaurants and caffes in choosen neighborhood, or maybe in another neighborhood are better with good food and services. Also, wich neighborhoods have more arranged green area to spend time there."
        }
    ],
    "metadata": {
        "kernelspec": {
            "name": "python3",
            "display_name": "Python 3.7",
            "language": "python"
        },
        "language_info": {
            "name": "python",
            "version": "3.7.10",
            "mimetype": "text/x-python",
            "codemirror_mode": {
                "name": "ipython",
                "version": 3
            },
            "pygments_lexer": "ipython3",
            "nbconvert_exporter": "python",
            "file_extension": ".py"
        }
    },
    "nbformat": 4,
    "nbformat_minor": 1
}