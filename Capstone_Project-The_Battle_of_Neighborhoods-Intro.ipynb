{
    "cells": [
        {
            "metadata": {
                "collapsed": true
            },
            "cell_type": "markdown",
            "source": "# The Battle of Neighborhoods, Capstone Project"
        },
        {
            "metadata": {},
            "cell_type": "markdown",
            "source": "*Milica Tomovic*"
        },
        {
            "metadata": {},
            "cell_type": "markdown",
            "source": "*IBM Data Science Professional*"
        },
        {
            "metadata": {},
            "cell_type": "markdown",
            "source": "## Introduction/Business Problem"
        },
        {
            "metadata": {},
            "cell_type": "markdown",
            "source": "### Project Idea"
        },
        {
            "metadata": {},
            "cell_type": "markdown",
            "source": "In this pandemic time, people are not able to go to the restaurnats, but on the other hand they are notwilling to prepare food at home. It is very interesting that people can find places in their neighborhood that delivered food, probably with drink, and maybe to be able to have delivered at their home, or to pick up at the restaurant's delivery window.\nThis can be of interes to people in big cities. In this projects will show the neighborhoods with restaurants with food-deliver in Toronto, because Toronto is the largest city in Canada. It has a various of different kind of restaurants and it can be difficult for someone to decide wher should order desired food."
        },
        {
            "metadata": {},
            "cell_type": "markdown",
            "source": "This projects aim to create an analysis of features of restaurants for people who search good food to be delivered in front of their door or in front of the restaurants. Using data about neighborhood and popular restaurants, will provide enough information to someone to choos where will be a good place to eat."
        },
        {
            "metadata": {},
            "cell_type": "markdown",
            "source": "Target audience are the private people as much as busines people. Also, it could be of interests to the people that work from home in these days.\nProblem statements: List of the restaurants that deliver food in choosen neighborhood, or maybe in another neighborhood are better restaurants with deliver service."
        },
        {
            "metadata": {},
            "cell_type": "code",
            "source": "",
            "execution_count": null,
            "outputs": []
        }
    ],
    "metadata": {
        "kernelspec": {
            "name": "python3",
            "display_name": "Python 3.7",
            "language": "python"
        },
        "language_info": {
            "name": "python",
            "version": "3.7.10",
            "mimetype": "text/x-python",
            "codemirror_mode": {
                "name": "ipython",
                "version": 3
            },
            "pygments_lexer": "ipython3",
            "nbconvert_exporter": "python",
            "file_extension": ".py"
        }
    },
    "nbformat": 4,
    "nbformat_minor": 1
}