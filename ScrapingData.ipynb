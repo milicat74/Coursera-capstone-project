{
    "cells": [
        {
            "cell_type": "markdown",
            "metadata": {
                "collapsed": true
            },
            "source": "Scraping data"
        },
        {
            "cell_type": "code",
            "execution_count": 1,
            "metadata": {},
            "outputs": [
                {
                    "name": "stdout",
                    "output_type": "stream",
                    "text": "Libraries imported.\n"
                }
            ],
            "source": "import pandas as pd #library for data analsysis\nimport numpy as np #library to handle data in a vectorized manner\nimport requests #library to handle requests\nimport urllib.request #library to use to open URLs\nimport bs4\nfrom bs4 import BeautifulSoup #library to import the BeautifulSoup library so we can parse HTML and XML documents\nprint('Libraries imported.')"
        },
        {
            "cell_type": "code",
            "execution_count": 2,
            "metadata": {},
            "outputs": [],
            "source": "# The code was removed by Watson Studio for sharing."
        },
        {
            "cell_type": "code",
            "execution_count": 3,
            "metadata": {},
            "outputs": [
                {
                    "data": {
                        "text/html": "<div>\n<style scoped>\n    .dataframe tbody tr th:only-of-type {\n        vertical-align: middle;\n    }\n\n    .dataframe tbody tr th {\n        vertical-align: top;\n    }\n\n    .dataframe thead th {\n        text-align: right;\n    }\n</style>\n<table border=\"1\" class=\"dataframe\">\n  <thead>\n    <tr style=\"text-align: right;\">\n      <th></th>\n      <th>0</th>\n      <th>1</th>\n    </tr>\n  </thead>\n  <tbody>\n    <tr>\n      <th>0</th>\n      <td>NaN</td>\n      <td>This article includes a list of references, re...</td>\n    </tr>\n  </tbody>\n</table>\n</div>",
                        "text/plain": "    0                                                  1\n0 NaN  This article includes a list of references, re..."
                    },
                    "execution_count": 3,
                    "metadata": {},
                    "output_type": "execute_result"
                }
            ],
            "source": "data_paris = pd.read_html(data_page)\nneigh_paris = data_paris[0]\nneigh_paris"
        },
        {
            "cell_type": "code",
            "execution_count": 4,
            "metadata": {},
            "outputs": [],
            "source": "# The code was removed by Watson Studio for sharing."
        },
        {
            "cell_type": "code",
            "execution_count": 5,
            "metadata": {},
            "outputs": [
                {
                    "name": "stdout",
                    "output_type": "stream",
                    "text": "Number of tables on site:  0\n"
                },
                {
                    "ename": "IndexError",
                    "evalue": "list index out of range",
                    "output_type": "error",
                    "traceback": [
                        "\u001b[0;31m---------------------------------------------------------------------------\u001b[0m",
                        "\u001b[0;31mIndexError\u001b[0m                                Traceback (most recent call last)",
                        "\u001b[0;32m<ipython-input-5-d321a8c1a4bb>\u001b[0m in \u001b[0;36m<module>\u001b[0;34m\u001b[0m\n\u001b[1;32m      6\u001b[0m \u001b[0mgdp\u001b[0m \u001b[0;34m=\u001b[0m \u001b[0msoup\u001b[0m\u001b[0;34m.\u001b[0m\u001b[0mfind_all\u001b[0m\u001b[0;34m(\u001b[0m\u001b[0;34m\"table\"\u001b[0m\u001b[0;34m,\u001b[0m \u001b[0mattrs\u001b[0m\u001b[0;34m=\u001b[0m\u001b[0;34m{\u001b[0m\u001b[0;34m\"class\"\u001b[0m\u001b[0;34m:\u001b[0m \u001b[0;34m\"postal sortable\"\u001b[0m\u001b[0;34m}\u001b[0m\u001b[0;34m)\u001b[0m\u001b[0;34m\u001b[0m\u001b[0;34m\u001b[0m\u001b[0m\n\u001b[1;32m      7\u001b[0m \u001b[0mprint\u001b[0m\u001b[0;34m(\u001b[0m\u001b[0;34m\"Number of tables on site: \"\u001b[0m\u001b[0;34m,\u001b[0m \u001b[0mlen\u001b[0m\u001b[0;34m(\u001b[0m\u001b[0mgdp\u001b[0m\u001b[0;34m)\u001b[0m\u001b[0;34m)\u001b[0m\u001b[0;34m\u001b[0m\u001b[0;34m\u001b[0m\u001b[0m\n\u001b[0;32m----> 8\u001b[0;31m \u001b[0mtable\u001b[0m \u001b[0;34m=\u001b[0m \u001b[0mgdp\u001b[0m\u001b[0;34m[\u001b[0m\u001b[0;36m0\u001b[0m\u001b[0;34m]\u001b[0m  \u001b[0;31m# first and only table that is selected is one that interest us\u001b[0m\u001b[0;34m\u001b[0m\u001b[0;34m\u001b[0m\u001b[0m\n\u001b[0m\u001b[1;32m      9\u001b[0m \u001b[0;34m\u001b[0m\u001b[0m\n\u001b[1;32m     10\u001b[0m \u001b[0mpostcodes_dict\u001b[0m \u001b[0;34m=\u001b[0m \u001b[0;34m{\u001b[0m\u001b[0;34m}\u001b[0m  \u001b[0;31m# initialize an empty dictionary to save the data in\u001b[0m\u001b[0;34m\u001b[0m\u001b[0;34m\u001b[0m\u001b[0m\n",
                        "\u001b[0;31mIndexError\u001b[0m: list index out of range"
                    ]
                }
            ],
            "source": "page = requests.get('https://en.wikipedia.org/wiki/List_of_postal_codes_of_Canada:_M')\n# transform page with BeautifulSoup\nsoup = BeautifulSoup(page.content, 'html.parser')\n\n# find table with specific class definition - after page source manual examination\ngdp = soup.find_all(\"table\", attrs={\"class\": \"postal sortable\"})\nprint(\"Number of tables on site: \", len(gdp))\ntable = gdp[0]  # first and only table that is selected is one that interest us\n\npostcodes_dict = {}  # initialize an empty dictionary to save the data in\nskip_first = False  # first row in table needs to be skipped, since it is header\n\nfor table_cell in table.find_all('tr'):\n    try:\n        if skip_first:\n            row_data = table_cell.find_all('td')\n            # let us first investigate shall we skip the record\n            borough = row_data[1].text.strip('\\n')\n            if borough != 'Not assigned':  # skip all that are not assigned\n                neighborhoods = row_data[2].text.strip('\\n')\n                if neighborhoods == 'Not assigned':  # if borough exists but no neighborhood, they are the same\n                    neighborhoods = borough\n                postal_code = row_data[0].text.strip('\\n')\n                if postal_code in postcodes_dict.keys():  # join neighborhoods_data if postal code already exists\n                    postcodes_dict[postal_code]['neighborhoods'] = \\\n                        postcodes_dict[postal_code]['neighborhoods'] + ', ' + neighborhoods\n                else:  # everything is fine, add new postal_code key into dictionary\n                    postcodes_dict[postal_code] = {}\n                    # add borough and neighborhood to dictionary\n                    postcodes_dict[postal_code]['borough'] = borough\n                    postcodes_dict[postal_code]['neighborhoods'] = neighborhoods\n        else:\n            skip_first = True\n    except SystemError as error:\n        print(error)"
        },
        {
            "cell_type": "code",
            "execution_count": null,
            "metadata": {},
            "outputs": [],
            "source": ""
        }
    ],
    "metadata": {
        "kernelspec": {
            "display_name": "Python 3.7",
            "language": "python",
            "name": "python3"
        },
        "language_info": {
            "codemirror_mode": {
                "name": "ipython",
                "version": 3
            },
            "file_extension": ".py",
            "mimetype": "text/x-python",
            "name": "python",
            "nbconvert_exporter": "python",
            "pygments_lexer": "ipython3",
            "version": "3.7.10"
        }
    },
    "nbformat": 4,
    "nbformat_minor": 1
}